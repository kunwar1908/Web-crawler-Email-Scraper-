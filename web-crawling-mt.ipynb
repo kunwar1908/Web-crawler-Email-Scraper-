{
  "cells": [
    {
      "cell_type": "markdown",
      "metadata": {
        "colab_type": "text",
        "id": "view-in-github"
      },
      "source": [
        "<a href=\"https://colab.research.google.com/github/Raghavgarg12/Web-Crawling/blob/main/web-crawling-mt.ipynb\" target=\"_parent\"><img src=\"https://colab.research.google.com/assets/colab-badge.svg\" alt=\"Open In Colab\"/></a>"
      ]
    },
    {
      "cell_type": "code",
      "execution_count": 1,
      "metadata": {
        "execution": {
          "iopub.execute_input": "2022-12-26T10:04:35.948026Z",
          "iopub.status.busy": "2022-12-26T10:04:35.947633Z",
          "iopub.status.idle": "2022-12-26T10:05:06.892132Z",
          "shell.execute_reply": "2022-12-26T10:05:06.890969Z",
          "shell.execute_reply.started": "2022-12-26T10:04:35.947994Z"
        },
        "id": "FNq6jU_HjaG3",
        "trusted": true
      },
      "outputs": [
        {
          "name": "stdout",
          "output_type": "stream",
          "text": [
            "Requirement already satisfied: requests-html in c:\\users\\kunwa\\appdata\\local\\programs\\python\\python312\\lib\\site-packages (0.10.0)\n",
            "Requirement already satisfied: requests in c:\\users\\kunwa\\appdata\\local\\programs\\python\\python312\\lib\\site-packages (from requests-html) (2.32.3)\n",
            "Requirement already satisfied: pyquery in c:\\users\\kunwa\\appdata\\local\\programs\\python\\python312\\lib\\site-packages (from requests-html) (2.0.0)\n",
            "Requirement already satisfied: fake-useragent in c:\\users\\kunwa\\appdata\\local\\programs\\python\\python312\\lib\\site-packages (from requests-html) (1.5.1)\n",
            "Requirement already satisfied: parse in c:\\users\\kunwa\\appdata\\local\\programs\\python\\python312\\lib\\site-packages (from requests-html) (1.20.2)\n",
            "Requirement already satisfied: bs4 in c:\\users\\kunwa\\appdata\\local\\programs\\python\\python312\\lib\\site-packages (from requests-html) (0.0.2)\n",
            "Requirement already satisfied: w3lib in c:\\users\\kunwa\\appdata\\local\\programs\\python\\python312\\lib\\site-packages (from requests-html) (2.2.1)\n",
            "Requirement already satisfied: pyppeteer>=0.0.14 in c:\\users\\kunwa\\appdata\\local\\programs\\python\\python312\\lib\\site-packages (from requests-html) (2.0.0)\n",
            "Requirement already satisfied: appdirs<2.0.0,>=1.4.3 in c:\\users\\kunwa\\appdata\\local\\programs\\python\\python312\\lib\\site-packages (from pyppeteer>=0.0.14->requests-html) (1.4.4)\n",
            "Requirement already satisfied: certifi>=2023 in c:\\users\\kunwa\\appdata\\local\\programs\\python\\python312\\lib\\site-packages (from pyppeteer>=0.0.14->requests-html) (2024.7.4)\n",
            "Requirement already satisfied: importlib-metadata>=1.4 in c:\\users\\kunwa\\appdata\\local\\programs\\python\\python312\\lib\\site-packages (from pyppeteer>=0.0.14->requests-html) (7.1.0)\n",
            "Requirement already satisfied: pyee<12.0.0,>=11.0.0 in c:\\users\\kunwa\\appdata\\local\\programs\\python\\python312\\lib\\site-packages (from pyppeteer>=0.0.14->requests-html) (11.1.0)\n",
            "Requirement already satisfied: tqdm<5.0.0,>=4.42.1 in c:\\users\\kunwa\\appdata\\local\\programs\\python\\python312\\lib\\site-packages (from pyppeteer>=0.0.14->requests-html) (4.66.4)\n",
            "Requirement already satisfied: urllib3<2.0.0,>=1.25.8 in c:\\users\\kunwa\\appdata\\local\\programs\\python\\python312\\lib\\site-packages (from pyppeteer>=0.0.14->requests-html) (1.26.19)\n",
            "Requirement already satisfied: websockets<11.0,>=10.0 in c:\\users\\kunwa\\appdata\\local\\programs\\python\\python312\\lib\\site-packages (from pyppeteer>=0.0.14->requests-html) (10.4)\n",
            "Requirement already satisfied: beautifulsoup4 in c:\\users\\kunwa\\appdata\\local\\programs\\python\\python312\\lib\\site-packages (from bs4->requests-html) (4.12.3)\n",
            "Requirement already satisfied: lxml>=2.1 in c:\\users\\kunwa\\appdata\\local\\programs\\python\\python312\\lib\\site-packages (from pyquery->requests-html) (5.2.2)\n",
            "Requirement already satisfied: cssselect>=1.2.0 in c:\\users\\kunwa\\appdata\\local\\programs\\python\\python312\\lib\\site-packages (from pyquery->requests-html) (1.2.0)\n",
            "Requirement already satisfied: charset-normalizer<4,>=2 in c:\\users\\kunwa\\appdata\\local\\programs\\python\\python312\\lib\\site-packages (from requests->requests-html) (3.3.2)\n",
            "Requirement already satisfied: idna<4,>=2.5 in c:\\users\\kunwa\\appdata\\local\\programs\\python\\python312\\lib\\site-packages (from requests->requests-html) (3.7)\n",
            "Requirement already satisfied: zipp>=0.5 in c:\\users\\kunwa\\appdata\\local\\programs\\python\\python312\\lib\\site-packages (from importlib-metadata>=1.4->pyppeteer>=0.0.14->requests-html) (3.19.2)\n",
            "Requirement already satisfied: typing-extensions in c:\\users\\kunwa\\appdata\\local\\programs\\python\\python312\\lib\\site-packages (from pyee<12.0.0,>=11.0.0->pyppeteer>=0.0.14->requests-html) (4.12.2)\n",
            "Requirement already satisfied: colorama in c:\\users\\kunwa\\appdata\\roaming\\python\\python312\\site-packages (from tqdm<5.0.0,>=4.42.1->pyppeteer>=0.0.14->requests-html) (0.4.6)\n",
            "Requirement already satisfied: soupsieve>1.2 in c:\\users\\kunwa\\appdata\\local\\programs\\python\\python312\\lib\\site-packages (from beautifulsoup4->bs4->requests-html) (2.5)\n",
            "Note: you may need to restart the kernel to use updated packages.\n",
            "Note: you may need to restart the kernel to use updated packages.\n"
          ]
        },
        {
          "name": "stderr",
          "output_type": "stream",
          "text": [
            "ERROR: Could not find a version that satisfies the requirement re (from versions: none)\n",
            "ERROR: No matching distribution found for re\n"
          ]
        },
        {
          "name": "stdout",
          "output_type": "stream",
          "text": [
            "Note: you may need to restart the kernel to use updated packages.\n"
          ]
        },
        {
          "name": "stderr",
          "output_type": "stream",
          "text": [
            "ERROR: Could not find a version that satisfies the requirement request (from versions: none)\n",
            "ERROR: No matching distribution found for request\n"
          ]
        },
        {
          "name": "stdout",
          "output_type": "stream",
          "text": [
            "Requirement already satisfied: bs4 in c:\\users\\kunwa\\appdata\\local\\programs\\python\\python312\\lib\\site-packages (0.0.2)\n",
            "Requirement already satisfied: beautifulsoup4 in c:\\users\\kunwa\\appdata\\local\\programs\\python\\python312\\lib\\site-packages (from bs4) (4.12.3)\n",
            "Requirement already satisfied: soupsieve>1.2 in c:\\users\\kunwa\\appdata\\local\\programs\\python\\python312\\lib\\site-packages (from beautifulsoup4->bs4) (2.5)\n",
            "Note: you may need to restart the kernel to use updated packages.\n",
            "Requirement already satisfied: requests-html in c:\\users\\kunwa\\appdata\\local\\programs\\python\\python312\\lib\\site-packages (0.10.0)\n",
            "Requirement already satisfied: requests in c:\\users\\kunwa\\appdata\\local\\programs\\python\\python312\\lib\\site-packages (from requests-html) (2.32.3)\n",
            "Requirement already satisfied: pyquery in c:\\users\\kunwa\\appdata\\local\\programs\\python\\python312\\lib\\site-packages (from requests-html) (2.0.0)\n",
            "Requirement already satisfied: fake-useragent in c:\\users\\kunwa\\appdata\\local\\programs\\python\\python312\\lib\\site-packages (from requests-html) (1.5.1)\n",
            "Requirement already satisfied: parse in c:\\users\\kunwa\\appdata\\local\\programs\\python\\python312\\lib\\site-packages (from requests-html) (1.20.2)\n",
            "Requirement already satisfied: bs4 in c:\\users\\kunwa\\appdata\\local\\programs\\python\\python312\\lib\\site-packages (from requests-html) (0.0.2)\n",
            "Requirement already satisfied: w3lib in c:\\users\\kunwa\\appdata\\local\\programs\\python\\python312\\lib\\site-packages (from requests-html) (2.2.1)\n",
            "Requirement already satisfied: pyppeteer>=0.0.14 in c:\\users\\kunwa\\appdata\\local\\programs\\python\\python312\\lib\\site-packages (from requests-html) (2.0.0)\n",
            "Requirement already satisfied: appdirs<2.0.0,>=1.4.3 in c:\\users\\kunwa\\appdata\\local\\programs\\python\\python312\\lib\\site-packages (from pyppeteer>=0.0.14->requests-html) (1.4.4)\n",
            "Requirement already satisfied: certifi>=2023 in c:\\users\\kunwa\\appdata\\local\\programs\\python\\python312\\lib\\site-packages (from pyppeteer>=0.0.14->requests-html) (2024.7.4)\n",
            "Requirement already satisfied: importlib-metadata>=1.4 in c:\\users\\kunwa\\appdata\\local\\programs\\python\\python312\\lib\\site-packages (from pyppeteer>=0.0.14->requests-html) (7.1.0)\n",
            "Requirement already satisfied: pyee<12.0.0,>=11.0.0 in c:\\users\\kunwa\\appdata\\local\\programs\\python\\python312\\lib\\site-packages (from pyppeteer>=0.0.14->requests-html) (11.1.0)\n",
            "Requirement already satisfied: tqdm<5.0.0,>=4.42.1 in c:\\users\\kunwa\\appdata\\local\\programs\\python\\python312\\lib\\site-packages (from pyppeteer>=0.0.14->requests-html) (4.66.4)\n",
            "Requirement already satisfied: urllib3<2.0.0,>=1.25.8 in c:\\users\\kunwa\\appdata\\local\\programs\\python\\python312\\lib\\site-packages (from pyppeteer>=0.0.14->requests-html) (1.26.19)\n",
            "Requirement already satisfied: websockets<11.0,>=10.0 in c:\\users\\kunwa\\appdata\\local\\programs\\python\\python312\\lib\\site-packages (from pyppeteer>=0.0.14->requests-html) (10.4)\n",
            "Requirement already satisfied: beautifulsoup4 in c:\\users\\kunwa\\appdata\\local\\programs\\python\\python312\\lib\\site-packages (from bs4->requests-html) (4.12.3)\n",
            "Requirement already satisfied: lxml>=2.1 in c:\\users\\kunwa\\appdata\\local\\programs\\python\\python312\\lib\\site-packages (from pyquery->requests-html) (5.2.2)\n",
            "Requirement already satisfied: cssselect>=1.2.0 in c:\\users\\kunwa\\appdata\\local\\programs\\python\\python312\\lib\\site-packages (from pyquery->requests-html) (1.2.0)\n",
            "Requirement already satisfied: charset-normalizer<4,>=2 in c:\\users\\kunwa\\appdata\\local\\programs\\python\\python312\\lib\\site-packages (from requests->requests-html) (3.3.2)\n",
            "Requirement already satisfied: idna<4,>=2.5 in c:\\users\\kunwa\\appdata\\local\\programs\\python\\python312\\lib\\site-packages (from requests->requests-html) (3.7)\n",
            "Requirement already satisfied: zipp>=0.5 in c:\\users\\kunwa\\appdata\\local\\programs\\python\\python312\\lib\\site-packages (from importlib-metadata>=1.4->pyppeteer>=0.0.14->requests-html) (3.19.2)\n",
            "Requirement already satisfied: typing-extensions in c:\\users\\kunwa\\appdata\\local\\programs\\python\\python312\\lib\\site-packages (from pyee<12.0.0,>=11.0.0->pyppeteer>=0.0.14->requests-html) (4.12.2)\n",
            "Requirement already satisfied: colorama in c:\\users\\kunwa\\appdata\\roaming\\python\\python312\\site-packages (from tqdm<5.0.0,>=4.42.1->pyppeteer>=0.0.14->requests-html) (0.4.6)\n",
            "Requirement already satisfied: soupsieve>1.2 in c:\\users\\kunwa\\appdata\\local\\programs\\python\\python312\\lib\\site-packages (from beautifulsoup4->bs4->requests-html) (2.5)\n",
            "Note: you may need to restart the kernel to use updated packages.\n"
          ]
        }
      ],
      "source": [
        "%pip install requests-html\n",
        "%pip install re\n",
        "%pip install request\n",
        "%pip install bs4\n",
        "%pip install requests-html\n"
      ]
    },
    {
      "cell_type": "code",
      "execution_count": 2,
      "metadata": {
        "execution": {
          "iopub.execute_input": "2022-12-26T10:05:06.904446Z",
          "iopub.status.busy": "2022-12-26T10:05:06.903610Z",
          "iopub.status.idle": "2022-12-26T10:05:06.918106Z",
          "shell.execute_reply": "2022-12-26T10:05:06.916982Z",
          "shell.execute_reply.started": "2022-12-26T10:05:06.904409Z"
        },
        "id": "BPUO7soCjaHB",
        "trusted": true
      },
      "outputs": [],
      "source": [
        "import re\n",
        "import pandas as pd\n",
        "import requests\n",
        "from bs4 import BeautifulSoup\n",
        "from collections import deque\n",
        "from urllib.parse import urlsplit\n",
        "import pandas as pd\n",
        "from requests_html import HTMLSession\n",
        "import threading\n",
        "import time\n",
        "from tqdm import tqdm "
      ]
    },
    {
      "cell_type": "code",
      "execution_count": 3,
      "metadata": {
        "execution": {
          "iopub.execute_input": "2022-12-26T10:05:06.921811Z",
          "iopub.status.busy": "2022-12-26T10:05:06.921045Z",
          "iopub.status.idle": "2022-12-26T10:05:06.933536Z",
          "shell.execute_reply": "2022-12-26T10:05:06.931924Z",
          "shell.execute_reply.started": "2022-12-26T10:05:06.921767Z"
        },
        "id": "O8XrpB4WjaHF",
        "trusted": true
      },
      "outputs": [],
      "source": [
        "#user_url = \"https://www.thapar.edu/sitemap.xml\"\n",
        "#url = [\"https://www.thapar.edu\"]\n",
        "EMAIL_REGEX = r\"\"\"(?:[a-z0-9!#$%&'*+/=?^_`{|}~-]+(?:\\.[a-z0-9!#$%&'*+/=?^_`{|}~-]+)*|\"(?:[\\x01-\\x08\\x0b\\x0c\\x0e-\\x1f\\x21\\x23-\\x5b\\x5d-\\x7f]|\\\\[\\x01-\\x09\\x0b\\x0c\\x0e-\\x7f])*\")@(?:(?:[a-z0-9](?:[a-z0-9-]*[a-z0-9])?\\.)+[a-z0-9](?:[a-z0-9-]*[a-z0-9])?|\\[(?:(?:(2(5[0-5]|[0-4][0-9])|1[0-9][0-9]|[1-9]?[0-9]))\\.){3}(?:(2(5[0-5]|[0-4][0-9])|1[0-9][0-9]|[1-9]?[0-9])|[a-z0-9-]*[a-z0-9]:(?:[\\x01-\\x08\\x0b\\x0c\\x0e-\\x1f\\x21-\\x5a\\x53-\\x7f]|\\\\[\\x01-\\x09\\x0b\\x0c\\x0e-\\x7f])+)\\])\"\"\""
      ]
    },
    {
      "cell_type": "code",
      "execution_count": 4,
      "metadata": {
        "execution": {
          "iopub.execute_input": "2022-12-26T10:05:06.936434Z",
          "iopub.status.busy": "2022-12-26T10:05:06.936048Z",
          "iopub.status.idle": "2022-12-26T10:05:09.351623Z",
          "shell.execute_reply": "2022-12-26T10:05:09.350425Z",
          "shell.execute_reply.started": "2022-12-26T10:05:06.936398Z"
        },
        "id": "xw51GoK6jaHJ",
        "trusted": true
      },
      "outputs": [
        {
          "name": "stderr",
          "output_type": "stream",
          "text": [
            "C:\\Users\\kunwa\\AppData\\Local\\Temp\\ipykernel_19876\\2655839664.py:4: XMLParsedAsHTMLWarning: It looks like you're parsing an XML document using an HTML parser. If this really is an HTML document (maybe it's XHTML?), you can ignore or filter this warning. If it's XML, you should know that using an XML parser will be more reliable. To parse this document as XML, make sure you have the lxml package installed, and pass the keyword argument `features=\"xml\"` into the BeautifulSoup constructor.\n",
            "  soup = BeautifulSoup(xml)\n"
          ]
        }
      ],
      "source": [
        "def get_urls_of_xml(xml_url):\n",
        "    r = requests.get(xml_url)\n",
        "    xml = r.text\n",
        "    soup = BeautifulSoup(xml)\n",
        "\n",
        "    links_arr = []\n",
        "    for link in soup.findAll('loc'):\n",
        "        linkstr = link.getText('', True)\n",
        "        links_arr.append(linkstr)\n",
        "\n",
        "    return links_arr\n",
        "\n",
        "\n",
        "\n",
        "links_data_arr = get_urls_of_xml(\"https://thapar.edu/sitemap.xml\")\n",
        "#print(links_data_arr)\n"
      ]
    },
    {
      "cell_type": "code",
      "execution_count": 5,
      "metadata": {
        "execution": {
          "iopub.execute_input": "2022-12-26T10:05:09.357183Z",
          "iopub.status.busy": "2022-12-26T10:05:09.356725Z",
          "iopub.status.idle": "2022-12-26T10:05:09.364213Z",
          "shell.execute_reply": "2022-12-26T10:05:09.362512Z",
          "shell.execute_reply.started": "2022-12-26T10:05:09.357144Z"
        },
        "id": "2p6hNPpAjaHM",
        "trusted": true
      },
      "outputs": [],
      "source": [
        "session = HTMLSession()"
      ]
    },
    {
      "cell_type": "code",
      "execution_count": 6,
      "metadata": {
        "execution": {
          "iopub.execute_input": "2022-12-26T10:05:17.089462Z",
          "iopub.status.busy": "2022-12-26T10:05:17.089017Z",
          "iopub.status.idle": "2022-12-26T10:17:47.278602Z",
          "shell.execute_reply": "2022-12-26T10:17:47.277052Z",
          "shell.execute_reply.started": "2022-12-26T10:05:17.089423Z"
        },
        "id": "i1gl4dsJjaHO",
        "trusted": true
      },
      "outputs": [
        {
          "name": "stderr",
          "output_type": "stream",
          "text": [
            "  5%|▍         | 212/4342 [01:26<42:41,  1.61it/s] "
          ]
        }
      ],
      "source": [
        "email=set()\n",
        "for i in tqdm(links_data_arr):\n",
        "        #requests.get(f'{i}', verify=False)\n",
        "        r = session.get(i)\n",
        "        for re_match in re.finditer(EMAIL_REGEX, r.html.raw_html.decode()):\n",
        "            email.add(((re_match.group())).replace(\"-\",\"\"))"
      ]
    },
    {
      "cell_type": "code",
      "execution_count": null,
      "metadata": {
        "execution": {
          "iopub.execute_input": "2022-12-26T10:18:56.632354Z",
          "iopub.status.busy": "2022-12-26T10:18:56.631963Z",
          "iopub.status.idle": "2022-12-26T10:18:56.641790Z",
          "shell.execute_reply": "2022-12-26T10:18:56.640417Z",
          "shell.execute_reply.started": "2022-12-26T10:18:56.632323Z"
        },
        "id": "QY1HjTyfjaHQ",
        "trusted": true
      },
      "outputs": [],
      "source": [
        "df = pd.DataFrame(email) \n",
        "df.to_csv('Emails.csv', index=False)"
      ]
    }
  ],
  "metadata": {
    "colab": {
      "include_colab_link": true,
      "provenance": []
    },
    "kernelspec": {
      "display_name": "Python 3",
      "language": "python",
      "name": "python3"
    },
    "language_info": {
      "codemirror_mode": {
        "name": "ipython",
        "version": 3
      },
      "file_extension": ".py",
      "mimetype": "text/x-python",
      "name": "python",
      "nbconvert_exporter": "python",
      "pygments_lexer": "ipython3",
      "version": "3.12.4"
    }
  },
  "nbformat": 4,
  "nbformat_minor": 0
}
